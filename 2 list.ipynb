{
 "cells": [
  {
   "cell_type": "code",
   "execution_count": null,
   "metadata": {},
   "outputs": [],
   "source": [
    "bicycles=['trek','cannondale','redline','specialzied']\n",
    "print(bicycles)\n",
    "# accessing elements in a list\n",
    "print(bicycles[0])\n",
    "print(bicycles[1].title())\n",
    "# print the last one \n",
    "print(bicycles[-1])\n",
    "print(bicycles[-2])"
   ]
  },
  {
   "cell_type": "code",
   "execution_count": null,
   "metadata": {},
   "outputs": [],
   "source": [
    "# using individual values from a list \n",
    "message=f\"my first bicycle was a {bicycles[0].title()}\"\n",
    "print(message)"
   ]
  },
  {
   "cell_type": "code",
   "execution_count": null,
   "metadata": {},
   "outputs": [],
   "source": [
    "# Changing, adding, removing elements\n",
    "\n",
    "motorcycles = ['honda','yamaha','suzuki']\n",
    "print(motorcycles)\n",
    "\n",
    "# change the value in the list \n",
    "motorcycles[0] = 'ducati'\n",
    "print(motorcycles)\n",
    "\n",
    "# add the value in the list (be the last one)\n",
    "motorcycles.append('honda')\n",
    "print(motorcycles)\n",
    "\n",
    "# insert the value in the list (be any one you want)\n",
    "motorcycles.insert(0,'moto')\n",
    "print(motorcycles)\n",
    "\n",
    "# removing an Item using the del statement\n",
    "del motorcycles[0]\n",
    "print(motorcycles)\n",
    "\n",
    "# removing an item using the pop() method\n",
    "popped_motorcycles=motorcycles.pop(2)# poping item from any position in a list\n",
    "print(motorcycles)\n",
    "print(popped_motorcycles)\n",
    "\n",
    "# removing an Item by Value\n",
    "motorcycles.insert(2,'suzuki')\n",
    "print(motorcycles)\n",
    "motorcycles.remove('yamaha')\n",
    "print(motorcycles)"
   ]
  },
  {
   "cell_type": "code",
   "execution_count": null,
   "metadata": {},
   "outputs": [],
   "source": [
    "# Organizing a list\n",
    "cars=['bmw','audi','toyota','subaru']\n",
    "print(cars)\n",
    "\n",
    "# sorting a list permanetly with the sort() method\n",
    "cars.sort()# make the list in alphabetical order\n",
    "print(cars)\n",
    "cars.sort(reverse=True)\n",
    "print(cars)"
   ]
  },
  {
   "cell_type": "code",
   "execution_count": null,
   "metadata": {},
   "outputs": [],
   "source": [
    "#sorting a list temporarily with the sorted() fuction\n",
    "cars=['bmw','audi','toyota','subaru']\n",
    "print(\"here is the original list:\")\n",
    "print(cars)\n",
    "\n",
    "print(\"\\nhere is the sorted list:\")\n",
    "print(sorted(cars))\n",
    "\n",
    "print(\"\\nhere is the original list again:\")\n",
    "print(cars)\n"
   ]
  },
  {
   "cell_type": "code",
   "execution_count": null,
   "metadata": {},
   "outputs": [],
   "source": [
    "# printing a list in Reverse order\n",
    "cars=['bmw','audi','toyota','subaru']\n",
    "print(cars)\n",
    "\n",
    "cars.reverse()\n",
    "print(cars)"
   ]
  },
  {
   "cell_type": "code",
   "execution_count": null,
   "metadata": {},
   "outputs": [],
   "source": [
    "# finding the length of a list \n",
    "len(cars)"
   ]
  }
 ],
 "metadata": {
  "kernelspec": {
   "display_name": "Python 3",
   "language": "python",
   "name": "python3"
  },
  "language_info": {
   "codemirror_mode": {
    "name": "ipython",
    "version": 3
   },
   "file_extension": ".py",
   "mimetype": "text/x-python",
   "name": "python",
   "nbconvert_exporter": "python",
   "pygments_lexer": "ipython3",
   "version": "3.10.9"
  },
  "orig_nbformat": 4,
  "vscode": {
   "interpreter": {
    "hash": "b0fa6594d8f4cbf19f97940f81e996739fb7646882a419484c72d19e05852a7e"
   }
  }
 },
 "nbformat": 4,
 "nbformat_minor": 2
}
